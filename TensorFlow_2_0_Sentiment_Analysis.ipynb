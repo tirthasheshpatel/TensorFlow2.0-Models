{
  "nbformat": 4,
  "nbformat_minor": 0,
  "metadata": {
    "colab": {
      "name": "TensorFlow 2.0 Sentiment Analysis.ipynb",
      "provenance": [],
      "mount_file_id": "1DESzPRktTkYzZ0nnOo9ofNMPaVg-0UHd",
      "authorship_tag": "ABX9TyODyBOmC1GcLhFo2R3AGbHC",
      "include_colab_link": true
    },
    "kernelspec": {
      "name": "python3",
      "display_name": "Python 3"
    },
    "accelerator": "GPU"
  },
  "cells": [
    {
      "cell_type": "markdown",
      "metadata": {
        "id": "view-in-github",
        "colab_type": "text"
      },
      "source": [
        "<a href=\"https://colab.research.google.com/github/tirthasheshpatel/TensorFlow2.0-Models/blob/master/TensorFlow_2_0_Sentiment_Analysis.ipynb\" target=\"_parent\"><img src=\"https://colab.research.google.com/assets/colab-badge.svg\" alt=\"Open In Colab\"/></a>"
      ]
    },
    {
      "cell_type": "code",
      "metadata": {
        "id": "oIelhhuCdsHd",
        "colab_type": "code",
        "colab": {
          "base_uri": "https://localhost:8080/",
          "height": 134
        },
        "outputId": "7061d03c-8e99-49a0-a2da-55d350b0f4ee"
      },
      "source": [
        "%tensorflow_version 2.2\n",
        "!git clone https://github.com/tirthasheshpatel/TensorFlow2.0-Models.git\n",
        "%cd TensorFlow2.0-Models"
      ],
      "execution_count": 1,
      "outputs": [
        {
          "output_type": "stream",
          "text": [
            "`%tensorflow_version` only switches the major version: 1.x or 2.x.\n",
            "You set: `2.2`. This will be interpreted as: `2.x`.\n",
            "\n",
            "\n",
            "TensorFlow 2.x selected.\n",
            "fatal: destination path 'TensorFlow2.0-Models' already exists and is not an empty directory.\n",
            "/content/TensorFlow2.0-Models\n"
          ],
          "name": "stdout"
        }
      ]
    },
    {
      "cell_type": "code",
      "metadata": {
        "id": "y-krQLQwfTDG",
        "colab_type": "code",
        "colab": {
          "base_uri": "https://localhost:8080/",
          "height": 67
        },
        "outputId": "e9dafe24-4842-49cb-d10e-828d881a26f8"
      },
      "source": [
        "!git pull origin master"
      ],
      "execution_count": 2,
      "outputs": [
        {
          "output_type": "stream",
          "text": [
            "From https://github.com/tirthasheshpatel/TensorFlow2.0-Models\n",
            " * branch            master     -> FETCH_HEAD\n",
            "Already up to date.\n"
          ],
          "name": "stdout"
        }
      ]
    },
    {
      "cell_type": "code",
      "metadata": {
        "id": "LvYMzDDKd2qC",
        "colab_type": "code",
        "colab": {
          "base_uri": "https://localhost:8080/",
          "height": 860
        },
        "outputId": "ec38b0da-f693-4950-d5a9-c3373bf2f177"
      },
      "source": [
        "!pip install -r requirements.txt\n",
        "!pip install -q tensorflow-hub\n",
        "!pip install -q tfds-nightly"
      ],
      "execution_count": 3,
      "outputs": [
        {
          "output_type": "stream",
          "text": [
            "Requirement already satisfied: tensorflow in /usr/local/lib/python3.6/dist-packages (from -r requirements.txt (line 1)) (2.2.0rc2)\n",
            "Requirement already satisfied: tensorflow_hub in /usr/local/lib/python3.6/dist-packages (from -r requirements.txt (line 2)) (0.7.0)\n",
            "Requirement already satisfied: tfds-nightly in /usr/local/lib/python3.6/dist-packages (from -r requirements.txt (line 3)) (2.1.0.dev202004020105)\n",
            "Requirement already satisfied: numpy in /usr/local/lib/python3.6/dist-packages (from -r requirements.txt (line 4)) (1.18.2)\n",
            "Requirement already satisfied: matplotlib in /usr/local/lib/python3.6/dist-packages (from -r requirements.txt (line 5)) (3.2.1)\n",
            "Requirement already satisfied: scipy==1.4.1; python_version >= \"3\" in /usr/local/lib/python3.6/dist-packages (from tensorflow->-r requirements.txt (line 1)) (1.4.1)\n",
            "Requirement already satisfied: astunparse==1.6.3 in /usr/local/lib/python3.6/dist-packages (from tensorflow->-r requirements.txt (line 1)) (1.6.3)\n",
            "Requirement already satisfied: keras-preprocessing>=1.1.0 in /usr/local/lib/python3.6/dist-packages (from tensorflow->-r requirements.txt (line 1)) (1.1.0)\n",
            "Requirement already satisfied: h5py<2.11.0,>=2.10.0 in /usr/local/lib/python3.6/dist-packages (from tensorflow->-r requirements.txt (line 1)) (2.10.0)\n",
            "Requirement already satisfied: tensorflow-estimator<2.3.0,>=2.2.0rc0 in /usr/local/lib/python3.6/dist-packages (from tensorflow->-r requirements.txt (line 1)) (2.2.0rc0)\n",
            "Requirement already satisfied: six>=1.12.0 in /usr/local/lib/python3.6/dist-packages (from tensorflow->-r requirements.txt (line 1)) (1.12.0)\n",
            "Requirement already satisfied: wheel>=0.26; python_version >= \"3\" in /usr/local/lib/python3.6/dist-packages (from tensorflow->-r requirements.txt (line 1)) (0.34.2)\n",
            "Requirement already satisfied: termcolor>=1.1.0 in /usr/local/lib/python3.6/dist-packages (from tensorflow->-r requirements.txt (line 1)) (1.1.0)\n",
            "Requirement already satisfied: tensorboard<2.3.0,>=2.2.0 in /usr/local/lib/python3.6/dist-packages (from tensorflow->-r requirements.txt (line 1)) (2.2.0)\n",
            "Requirement already satisfied: grpcio>=1.8.6 in /usr/local/lib/python3.6/dist-packages (from tensorflow->-r requirements.txt (line 1)) (1.27.2)\n",
            "Requirement already satisfied: google-pasta>=0.1.8 in /usr/local/lib/python3.6/dist-packages (from tensorflow->-r requirements.txt (line 1)) (0.2.0)\n",
            "Requirement already satisfied: protobuf>=3.8.0 in /usr/local/lib/python3.6/dist-packages (from tensorflow->-r requirements.txt (line 1)) (3.10.0)\n",
            "Requirement already satisfied: opt-einsum>=2.3.2 in /usr/local/lib/python3.6/dist-packages (from tensorflow->-r requirements.txt (line 1)) (3.2.0)\n",
            "Requirement already satisfied: wrapt>=1.11.1 in /usr/local/lib/python3.6/dist-packages (from tensorflow->-r requirements.txt (line 1)) (1.12.1)\n",
            "Requirement already satisfied: gast==0.3.3 in /usr/local/lib/python3.6/dist-packages (from tensorflow->-r requirements.txt (line 1)) (0.3.3)\n",
            "Requirement already satisfied: absl-py>=0.7.0 in /usr/local/lib/python3.6/dist-packages (from tensorflow->-r requirements.txt (line 1)) (0.9.0)\n",
            "Requirement already satisfied: promise in /usr/local/lib/python3.6/dist-packages (from tfds-nightly->-r requirements.txt (line 3)) (2.3)\n",
            "Requirement already satisfied: tqdm in /usr/local/lib/python3.6/dist-packages (from tfds-nightly->-r requirements.txt (line 3)) (4.38.0)\n",
            "Requirement already satisfied: future in /usr/local/lib/python3.6/dist-packages (from tfds-nightly->-r requirements.txt (line 3)) (0.16.0)\n",
            "Requirement already satisfied: dill in /usr/local/lib/python3.6/dist-packages (from tfds-nightly->-r requirements.txt (line 3)) (0.3.1.1)\n",
            "Requirement already satisfied: tensorflow-metadata in /usr/local/lib/python3.6/dist-packages (from tfds-nightly->-r requirements.txt (line 3)) (0.21.1)\n",
            "Requirement already satisfied: requests>=2.19.0 in /usr/local/lib/python3.6/dist-packages (from tfds-nightly->-r requirements.txt (line 3)) (2.21.0)\n",
            "Requirement already satisfied: attrs>=18.1.0 in /usr/local/lib/python3.6/dist-packages (from tfds-nightly->-r requirements.txt (line 3)) (19.3.0)\n",
            "Requirement already satisfied: python-dateutil>=2.1 in /usr/local/lib/python3.6/dist-packages (from matplotlib->-r requirements.txt (line 5)) (2.8.1)\n",
            "Requirement already satisfied: kiwisolver>=1.0.1 in /usr/local/lib/python3.6/dist-packages (from matplotlib->-r requirements.txt (line 5)) (1.1.0)\n",
            "Requirement already satisfied: pyparsing!=2.0.4,!=2.1.2,!=2.1.6,>=2.0.1 in /usr/local/lib/python3.6/dist-packages (from matplotlib->-r requirements.txt (line 5)) (2.4.6)\n",
            "Requirement already satisfied: cycler>=0.10 in /usr/local/lib/python3.6/dist-packages (from matplotlib->-r requirements.txt (line 5)) (0.10.0)\n",
            "Requirement already satisfied: google-auth<2,>=1.6.3 in /usr/local/lib/python3.6/dist-packages (from tensorboard<2.3.0,>=2.2.0->tensorflow->-r requirements.txt (line 1)) (1.7.2)\n",
            "Requirement already satisfied: google-auth-oauthlib<0.5,>=0.4.1 in /usr/local/lib/python3.6/dist-packages (from tensorboard<2.3.0,>=2.2.0->tensorflow->-r requirements.txt (line 1)) (0.4.1)\n",
            "Requirement already satisfied: werkzeug>=0.11.15 in /usr/local/lib/python3.6/dist-packages (from tensorboard<2.3.0,>=2.2.0->tensorflow->-r requirements.txt (line 1)) (1.0.0)\n",
            "Requirement already satisfied: tensorboard-plugin-wit>=1.6.0 in /usr/local/lib/python3.6/dist-packages (from tensorboard<2.3.0,>=2.2.0->tensorflow->-r requirements.txt (line 1)) (1.6.0.post2)\n",
            "Requirement already satisfied: setuptools>=41.0.0 in /usr/local/lib/python3.6/dist-packages (from tensorboard<2.3.0,>=2.2.0->tensorflow->-r requirements.txt (line 1)) (46.0.0)\n",
            "Requirement already satisfied: markdown>=2.6.8 in /usr/local/lib/python3.6/dist-packages (from tensorboard<2.3.0,>=2.2.0->tensorflow->-r requirements.txt (line 1)) (3.2.1)\n",
            "Requirement already satisfied: googleapis-common-protos in /usr/local/lib/python3.6/dist-packages (from tensorflow-metadata->tfds-nightly->-r requirements.txt (line 3)) (1.51.0)\n",
            "Requirement already satisfied: certifi>=2017.4.17 in /usr/local/lib/python3.6/dist-packages (from requests>=2.19.0->tfds-nightly->-r requirements.txt (line 3)) (2019.11.28)\n",
            "Requirement already satisfied: urllib3<1.25,>=1.21.1 in /usr/local/lib/python3.6/dist-packages (from requests>=2.19.0->tfds-nightly->-r requirements.txt (line 3)) (1.24.3)\n",
            "Requirement already satisfied: chardet<3.1.0,>=3.0.2 in /usr/local/lib/python3.6/dist-packages (from requests>=2.19.0->tfds-nightly->-r requirements.txt (line 3)) (3.0.4)\n",
            "Requirement already satisfied: idna<2.9,>=2.5 in /usr/local/lib/python3.6/dist-packages (from requests>=2.19.0->tfds-nightly->-r requirements.txt (line 3)) (2.8)\n",
            "Requirement already satisfied: pyasn1-modules>=0.2.1 in /usr/local/lib/python3.6/dist-packages (from google-auth<2,>=1.6.3->tensorboard<2.3.0,>=2.2.0->tensorflow->-r requirements.txt (line 1)) (0.2.8)\n",
            "Requirement already satisfied: rsa<4.1,>=3.1.4 in /usr/local/lib/python3.6/dist-packages (from google-auth<2,>=1.6.3->tensorboard<2.3.0,>=2.2.0->tensorflow->-r requirements.txt (line 1)) (4.0)\n",
            "Requirement already satisfied: cachetools<3.2,>=2.0.0 in /usr/local/lib/python3.6/dist-packages (from google-auth<2,>=1.6.3->tensorboard<2.3.0,>=2.2.0->tensorflow->-r requirements.txt (line 1)) (3.1.1)\n",
            "Requirement already satisfied: requests-oauthlib>=0.7.0 in /usr/local/lib/python3.6/dist-packages (from google-auth-oauthlib<0.5,>=0.4.1->tensorboard<2.3.0,>=2.2.0->tensorflow->-r requirements.txt (line 1)) (1.3.0)\n",
            "Requirement already satisfied: pyasn1<0.5.0,>=0.4.6 in /usr/local/lib/python3.6/dist-packages (from pyasn1-modules>=0.2.1->google-auth<2,>=1.6.3->tensorboard<2.3.0,>=2.2.0->tensorflow->-r requirements.txt (line 1)) (0.4.8)\n",
            "Requirement already satisfied: oauthlib>=3.0.0 in /usr/local/lib/python3.6/dist-packages (from requests-oauthlib>=0.7.0->google-auth-oauthlib<0.5,>=0.4.1->tensorboard<2.3.0,>=2.2.0->tensorflow->-r requirements.txt (line 1)) (3.1.0)\n"
          ],
          "name": "stdout"
        }
      ]
    },
    {
      "cell_type": "code",
      "metadata": {
        "id": "UU7-9mN3if7B",
        "colab_type": "code",
        "colab": {}
      },
      "source": [
        "import sys\n",
        "import os\n",
        "\n",
        "import numpy as np\n",
        "import matplotlib.pyplot as plt\n",
        "import tensorflow as tf\n",
        "import tensorflow.keras.backend as K\n",
        "from tensorflow.keras import Sequential\n",
        "from tensorflow.keras.layers import Dense, Embedding, Flatten\n",
        "from tensorflow.keras.preprocessing.text import Tokenizer\n",
        "from tensorflow.keras.preprocessing.sequence import pad_sequences\n",
        "from tensorflow.keras.regularizers import l2\n",
        "import tensorflow_hub as hub\n",
        "import tensorflow_datasets as tfds\n",
        "\n",
        "from dataset import *\n",
        "from models import *\n",
        "from metrics import *\n",
        "from train import *\n",
        "\n",
        "%matplotlib inline"
      ],
      "execution_count": 0,
      "outputs": []
    },
    {
      "cell_type": "code",
      "metadata": {
        "id": "IP7TUAr190dF",
        "colab_type": "code",
        "colab": {}
      },
      "source": [
        "buffer_size   = 10000\n",
        "batch_size    = 64\n",
        "epochs        = 10\n",
        "learning_rate = 0.0001"
      ],
      "execution_count": 0,
      "outputs": []
    },
    {
      "cell_type": "code",
      "metadata": {
        "id": "6kabH9snwjhT",
        "colab_type": "code",
        "colab": {}
      },
      "source": [
        "checkpoint_path = \"training_1/cp.ckpt\"\n",
        "\n",
        "# Create a callback that saves the model's weights\n",
        "cp_callback = tf.keras.callbacks.ModelCheckpoint(filepath=checkpoint_path,\n",
        "                                                 save_weights_only=True,\n",
        "                                                 verbose=1)"
      ],
      "execution_count": 0,
      "outputs": []
    },
    {
      "cell_type": "code",
      "metadata": {
        "id": "_AWP5SGq4_Kr",
        "colab_type": "code",
        "colab": {
          "base_uri": "https://localhost:8080/",
          "height": 689
        },
        "outputId": "c2407e2f-3bab-4128-f798-daaa7fe65e21"
      },
      "source": [
        "batched_train_data, batched_test_data, encoder = get_batched_imdb_dataset_from_tfds(buffer_size=buffer_size, batch_size=batch_size)\n",
        "\n",
        "model = tf.keras.Sequential([\n",
        "    tf.keras.layers.Embedding(encoder.vocab_size, 64),\n",
        "    tf.keras.layers.Bidirectional(tf.keras.layers.LSTM(64)),\n",
        "    tf.keras.layers.Dense(64, activation='relu'),\n",
        "    tf.keras.layers.Dense(1)\n",
        "])\n",
        "\n",
        "model.compile(loss=tf.keras.losses.BinaryCrossentropy(from_logits=True),\n",
        "              optimizer=tf.keras.optimizers.Adam(learning_rate=learning_rate),\n",
        "              metrics=['accuracy'])\n",
        "\n",
        "history = model.fit(batched_train_data, epochs=epochs,\n",
        "                    validation_data=batched_test_data, \n",
        "                    validation_steps=30,\n",
        "                    callbacks=[cp_callback])"
      ],
      "execution_count": 7,
      "outputs": [
        {
          "output_type": "stream",
          "text": [
            "Epoch 1/10\n",
            "391/391 [==============================] - ETA: 0s - loss: 0.6328 - accuracy: 0.5748\n",
            "Epoch 00001: saving model to training_1/cp.ckpt\n",
            "391/391 [==============================] - 45s 114ms/step - loss: 0.6328 - accuracy: 0.5748 - val_loss: 0.4415 - val_accuracy: 0.7974\n",
            "Epoch 2/10\n",
            "391/391 [==============================] - ETA: 0s - loss: 0.3447 - accuracy: 0.8518\n",
            "Epoch 00002: saving model to training_1/cp.ckpt\n",
            "391/391 [==============================] - 44s 112ms/step - loss: 0.3447 - accuracy: 0.8518 - val_loss: 0.3493 - val_accuracy: 0.8406\n",
            "Epoch 3/10\n",
            "391/391 [==============================] - ETA: 0s - loss: 0.2537 - accuracy: 0.9000\n",
            "Epoch 00003: saving model to training_1/cp.ckpt\n",
            "391/391 [==============================] - 44s 113ms/step - loss: 0.2537 - accuracy: 0.9000 - val_loss: 0.3253 - val_accuracy: 0.8693\n",
            "Epoch 4/10\n",
            "391/391 [==============================] - ETA: 0s - loss: 0.2140 - accuracy: 0.9192\n",
            "Epoch 00004: saving model to training_1/cp.ckpt\n",
            "391/391 [==============================] - 44s 113ms/step - loss: 0.2140 - accuracy: 0.9192 - val_loss: 0.3509 - val_accuracy: 0.8391\n",
            "Epoch 5/10\n",
            "391/391 [==============================] - ETA: 0s - loss: 0.1861 - accuracy: 0.9320\n",
            "Epoch 00005: saving model to training_1/cp.ckpt\n",
            "391/391 [==============================] - 44s 113ms/step - loss: 0.1861 - accuracy: 0.9320 - val_loss: 0.3366 - val_accuracy: 0.8651\n",
            "Epoch 6/10\n",
            "391/391 [==============================] - ETA: 0s - loss: 0.1615 - accuracy: 0.9419\n",
            "Epoch 00006: saving model to training_1/cp.ckpt\n",
            "391/391 [==============================] - 44s 113ms/step - loss: 0.1615 - accuracy: 0.9419 - val_loss: 0.3735 - val_accuracy: 0.8667\n",
            "Epoch 7/10\n",
            "391/391 [==============================] - ETA: 0s - loss: 0.1478 - accuracy: 0.9477\n",
            "Epoch 00007: saving model to training_1/cp.ckpt\n",
            "391/391 [==============================] - 44s 113ms/step - loss: 0.1478 - accuracy: 0.9477 - val_loss: 0.3682 - val_accuracy: 0.8609\n",
            "Epoch 8/10\n",
            "391/391 [==============================] - ETA: 0s - loss: 0.1336 - accuracy: 0.9530\n",
            "Epoch 00008: saving model to training_1/cp.ckpt\n",
            "391/391 [==============================] - 44s 112ms/step - loss: 0.1336 - accuracy: 0.9530 - val_loss: 0.4030 - val_accuracy: 0.8609\n",
            "Epoch 9/10\n",
            "391/391 [==============================] - ETA: 0s - loss: 0.1198 - accuracy: 0.9581\n",
            "Epoch 00009: saving model to training_1/cp.ckpt\n",
            "391/391 [==============================] - 44s 112ms/step - loss: 0.1198 - accuracy: 0.9581 - val_loss: 0.4202 - val_accuracy: 0.8552\n",
            "Epoch 10/10\n",
            "391/391 [==============================] - ETA: 0s - loss: 0.1278 - accuracy: 0.9548\n",
            "Epoch 00010: saving model to training_1/cp.ckpt\n",
            "391/391 [==============================] - 44s 112ms/step - loss: 0.1278 - accuracy: 0.9548 - val_loss: 0.4337 - val_accuracy: 0.8542\n"
          ],
          "name": "stdout"
        }
      ]
    },
    {
      "cell_type": "code",
      "metadata": {
        "id": "D-CraZqO1yln",
        "colab_type": "code",
        "colab": {}
      },
      "source": [
        "myreview = \"waste of time and money\"\n",
        "myreview = tf.convert_to_tensor([encoder.encode(myreview)])"
      ],
      "execution_count": 0,
      "outputs": []
    },
    {
      "cell_type": "code",
      "metadata": {
        "id": "S8c3rjEs2Am2",
        "colab_type": "code",
        "outputId": "da31f700-a4cd-4cbb-979c-b2af713dbaf2",
        "colab": {
          "base_uri": "https://localhost:8080/",
          "height": 34
        }
      },
      "source": [
        "model(myreview)"
      ],
      "execution_count": 9,
      "outputs": [
        {
          "output_type": "execute_result",
          "data": {
            "text/plain": [
              "<tf.Tensor: shape=(1, 1), dtype=float32, numpy=array([[-0.95749325]], dtype=float32)>"
            ]
          },
          "metadata": {
            "tags": []
          },
          "execution_count": 9
        }
      ]
    },
    {
      "cell_type": "code",
      "metadata": {
        "id": "W1l8wdiY2EL-",
        "colab_type": "code",
        "colab": {}
      },
      "source": [
        "myreview = \"this movie was very amazing\"\n",
        "myreview = tf.convert_to_tensor([encoder.encode(myreview)])"
      ],
      "execution_count": 0,
      "outputs": []
    },
    {
      "cell_type": "code",
      "metadata": {
        "id": "uoy7zO2k2NHJ",
        "colab_type": "code",
        "outputId": "354d4008-d107-4294-8319-2da38fd12987",
        "colab": {
          "base_uri": "https://localhost:8080/",
          "height": 34
        }
      },
      "source": [
        "model(myreview)"
      ],
      "execution_count": 11,
      "outputs": [
        {
          "output_type": "execute_result",
          "data": {
            "text/plain": [
              "<tf.Tensor: shape=(1, 1), dtype=float32, numpy=array([[0.69263387]], dtype=float32)>"
            ]
          },
          "metadata": {
            "tags": []
          },
          "execution_count": 11
        }
      ]
    }
  ]
}